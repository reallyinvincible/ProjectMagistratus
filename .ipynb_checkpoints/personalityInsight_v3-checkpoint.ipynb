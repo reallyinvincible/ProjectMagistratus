{
 "cells": [
  {
   "cell_type": "code",
   "execution_count": 1,
   "metadata": {},
   "outputs": [],
   "source": [
    "from ibm_watson import PersonalityInsightsV3\n",
    "from ibm_cloud_sdk_core.authenticators import IAMAuthenticator\n",
    "\n",
    "authenticator = IAMAuthenticator('4_vyfrdyUkp31NVo934SJ0QLkX1-oeIxUrcDSiNLUGW7')\n",
    "personality_insights = PersonalityInsightsV3(\n",
    "    version='2017-10-13',\n",
    "    authenticator=authenticator\n",
    ")\n",
    "\n",
    "personality_insights.set_service_url('https://api.eu-gb.personality-insights.watson.cloud.ibm.com/instances/2d350496-9675-4cc6-8ecc-1b2919b69e5c')"
   ]
  },
  {
   "cell_type": "code",
   "execution_count": 5,
   "metadata": {},
   "outputs": [
    {
     "ename": "SyntaxError",
     "evalue": "invalid syntax (<ipython-input-5-d921b4ae1902>, line 3)",
     "output_type": "error",
     "traceback": [
      "\u001b[0;36m  File \u001b[0;32m\"<ipython-input-5-d921b4ae1902>\"\u001b[0;36m, line \u001b[0;32m3\u001b[0m\n\u001b[0;31m    print\"Hello\"\u001b[0m\n\u001b[0m               ^\u001b[0m\n\u001b[0;31mSyntaxError\u001b[0m\u001b[0;31m:\u001b[0m invalid syntax\n"
     ]
    }
   ],
   "source": [
    "from ibm_watson import ApiException\n",
    "try:\n",
    "    print(\"Hello\")\n",
    "except ApiException as ex:\n",
    "    print (\"Method failed with status code \" + str(ex.code) + \": \" + ex.message)"
   ]
  },
  {
   "cell_type": "code",
   "execution_count": null,
   "metadata": {},
   "outputs": [],
   "source": []
  }
 ],
 "metadata": {
  "kernelspec": {
   "display_name": "Python 3",
   "language": "python",
   "name": "python3"
  },
  "language_info": {
   "codemirror_mode": {
    "name": "ipython",
    "version": 3
   },
   "file_extension": ".py",
   "mimetype": "text/x-python",
   "name": "python",
   "nbconvert_exporter": "python",
   "pygments_lexer": "ipython3",
   "version": "3.6.9"
  }
 },
 "nbformat": 4,
 "nbformat_minor": 4
}
